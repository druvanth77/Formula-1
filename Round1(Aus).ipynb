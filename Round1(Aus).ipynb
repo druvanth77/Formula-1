{
 "cells": [
  {
   "cell_type": "code",
   "execution_count": 1,
   "id": "ee530f87-6257-4248-871f-fe5ec3061c5e",
   "metadata": {},
   "outputs": [],
   "source": [
    "import fastf1\n",
    "import pandas as pd\n",
    "import numpy as np\n",
    "from sklearn.model_selection import train_test_split\n",
    "from sklearn.ensemble import GradientBoostingRegressor\n",
    "from sklearn.metrics import mean_absolute_error"
   ]
  },
  {
   "cell_type": "code",
   "execution_count": 2,
   "id": "245f9e52-2e3f-4a52-8ad0-c51f905419bd",
   "metadata": {},
   "outputs": [],
   "source": [
    "# Enable FastF1 caching\n",
    "fastf1.Cache.enable_cache(\"f1_cache\")"
   ]
  },
  {
   "cell_type": "code",
   "execution_count": 3,
   "id": "d05083f4-0afc-4ca0-bbe3-6dab0d4d05db",
   "metadata": {},
   "outputs": [
    {
     "name": "stderr",
     "output_type": "stream",
     "text": [
      "core           INFO \tLoading data for Australian Grand Prix - Race [v3.5.3]\n",
      "req            INFO \tUsing cached data for session_info\n",
      "req            INFO \tUsing cached data for driver_info\n",
      "req            INFO \tUsing cached data for session_status_data\n",
      "req            INFO \tUsing cached data for lap_count\n",
      "req            INFO \tUsing cached data for track_status_data\n",
      "req            INFO \tUsing cached data for _extended_timing_data\n",
      "req            INFO \tUsing cached data for timing_app_data\n",
      "core           INFO \tProcessing timing data...\n",
      "req            INFO \tUsing cached data for car_data\n",
      "req            INFO \tUsing cached data for position_data\n",
      "req            INFO \tUsing cached data for weather_data\n",
      "req            INFO \tUsing cached data for race_control_messages\n",
      "core           INFO \tFinished loading data for 19 drivers: ['55', '16', '4', '81', '11', '18', '22', '14', '27', '20', '23', '3', '10', '77', '24', '31', '63', '44', '1']\n"
     ]
    }
   ],
   "source": [
    "# Load FastF1 2024 Australian GP race session\n",
    "session_2024 = fastf1.get_session(2024, 3, \"R\")\n",
    "session_2024.load()"
   ]
  },
  {
   "cell_type": "code",
   "execution_count": 4,
   "id": "5ba9ead9-6a3c-4b72-83cb-999bc1bcfe18",
   "metadata": {},
   "outputs": [
    {
     "name": "stdout",
     "output_type": "stream",
     "text": [
      "2024 Season Round 3: Australian Grand Prix - Race\n"
     ]
    }
   ],
   "source": [
    "# Just checking the data\n",
    "print(session_2024)\n",
    "# print(session_2024.laps.head())\n",
    "# print(session_2024.drivers)\n",
    "# print(session_2024.results)\n",
    "# print(dir(session_2024))"
   ]
  },
  {
   "cell_type": "code",
   "execution_count": 5,
   "id": "63e66a42-ae63-4582-8a9f-031aaf5a97d3",
   "metadata": {},
   "outputs": [],
   "source": [
    "# Extract lap times\n",
    "laps_2024 = session_2024.laps[[\"Driver\", \"LapTime\"]].copy()\n",
    "laps_2024.dropna(subset=[\"LapTime\"], inplace=True)\n",
    "laps_2024[\"LapTime (s)\"] = laps_2024[\"LapTime\"].dt.total_seconds()"
   ]
  },
  {
   "cell_type": "code",
   "execution_count": 6,
   "id": "8aad4fa5-6bc7-4ccc-b076-1b18b2c90600",
   "metadata": {},
   "outputs": [],
   "source": [
    "# 2025 Qualifying Data\n",
    "qualifying_2025 = pd.DataFrame({\n",
    "    \"Driver\": [\"Lando Norris\", \"Oscar Piastri\", \"Max Verstappen\", \"George Russell\", \"Yuki Tsunoda\",\n",
    "               \"Alexander Albon\", \"Charles Leclerc\", \"Lewis Hamilton\", \"Pierre Gasly\", \"Carlos Sainz\", \"Fernando Alonso\", \"Lance Stroll\"],\n",
    "    \"QualifyingTime (s)\": [75.096, 75.180, 75.481, 75.546, 75.670,\n",
    "                           75.737, 75.755, 75.973, 75.980, 76.062, 76.4, 76.5]\n",
    "})"
   ]
  },
  {
   "cell_type": "code",
   "execution_count": 7,
   "id": "e542930b-6a4e-487c-af69-fbbdfe8b1a95",
   "metadata": {},
   "outputs": [],
   "source": [
    "# Map full names to FastF1 3-letter codes\n",
    "driver_mapping = {\n",
    "    \"Lando Norris\": \"NOR\", \"Oscar Piastri\": \"PIA\", \"Max Verstappen\": \"VER\", \"George Russell\": \"RUS\",\n",
    "    \"Yuki Tsunoda\": \"TSU\", \"Alexander Albon\": \"ALB\", \"Charles Leclerc\": \"LEC\", \"Lewis Hamilton\": \"HAM\",\n",
    "    \"Pierre Gasly\": \"GAS\", \"Carlos Sainz\": \"SAI\", \"Lance Stroll\": \"STR\", \"Fernando Alonso\": \"ALO\"\n",
    "}\n",
    "\n",
    "qualifying_2025[\"DriverCode\"] = qualifying_2025[\"Driver\"].map(driver_mapping)\n"
   ]
  },
  {
   "cell_type": "code",
   "execution_count": 8,
   "id": "f1054d21-7bbe-495f-a304-1e4fbe2e6ba8",
   "metadata": {},
   "outputs": [
    {
     "name": "stdout",
     "output_type": "stream",
     "text": [
      "             Driver  QualifyingTime (s) DriverCode\n",
      "0      Lando Norris              75.096        NOR\n",
      "1     Oscar Piastri              75.180        PIA\n",
      "2    Max Verstappen              75.481        VER\n",
      "3    George Russell              75.546        RUS\n",
      "4      Yuki Tsunoda              75.670        TSU\n",
      "5   Alexander Albon              75.737        ALB\n",
      "6   Charles Leclerc              75.755        LEC\n",
      "7    Lewis Hamilton              75.973        HAM\n",
      "8      Pierre Gasly              75.980        GAS\n",
      "9      Carlos Sainz              76.062        SAI\n",
      "10  Fernando Alonso              76.400        ALO\n",
      "11     Lance Stroll              76.500        STR\n",
      "    Driver                LapTime  LapTime (s)\n",
      "0      VER 0 days 00:01:27.458000       87.458\n",
      "1      VER 0 days 00:01:24.099000       84.099\n",
      "2      VER 0 days 00:01:23.115000       83.115\n",
      "4      GAS 0 days 00:01:37.304000       97.304\n",
      "5      GAS 0 days 00:01:24.649000       84.649\n",
      "..     ...                    ...          ...\n",
      "993    PIA 0 days 00:01:20.199000       80.199\n",
      "994    PIA 0 days 00:01:20.754000       80.754\n",
      "995    PIA 0 days 00:01:20.357000       80.357\n",
      "996    PIA 0 days 00:01:25.255000       85.255\n",
      "997    PIA 0 days 00:02:04.363000      124.363\n",
      "\n",
      "[995 rows x 3 columns]\n"
     ]
    }
   ],
   "source": [
    "print(qualifying_2025)\n",
    "print(laps_2024)"
   ]
  },
  {
   "cell_type": "code",
   "execution_count": 9,
   "id": "f5307f9f-7da4-4954-8ed0-bab2323280aa",
   "metadata": {},
   "outputs": [],
   "source": [
    "# Merge 2025 Qualifying Data with 2024 Race Data\n",
    "merged_data = qualifying_2025.merge(laps_2024, left_on=\"DriverCode\", right_on=\"Driver\")"
   ]
  },
  {
   "cell_type": "code",
   "execution_count": 10,
   "id": "f8854442-ecd6-4629-9f48-b3588dc7788a",
   "metadata": {},
   "outputs": [],
   "source": [
    "# Use only \"QualifyingTime (s)\" as a feature\n",
    "X = merged_data[[\"QualifyingTime (s)\"]]\n",
    "y = merged_data[\"LapTime (s)\"]\n",
    "\n",
    "if X.shape[0] == 0:\n",
    "    raise ValueError(\"Dataset is empty after preprocessing. Check data sources!\")"
   ]
  },
  {
   "cell_type": "code",
   "execution_count": 11,
   "id": "79eceffa-0465-45c3-a7dc-d76ad37af56c",
   "metadata": {},
   "outputs": [
    {
     "data": {
      "text/html": [
       "<style>#sk-container-id-1 {color: black;}#sk-container-id-1 pre{padding: 0;}#sk-container-id-1 div.sk-toggleable {background-color: white;}#sk-container-id-1 label.sk-toggleable__label {cursor: pointer;display: block;width: 100%;margin-bottom: 0;padding: 0.3em;box-sizing: border-box;text-align: center;}#sk-container-id-1 label.sk-toggleable__label-arrow:before {content: \"▸\";float: left;margin-right: 0.25em;color: #696969;}#sk-container-id-1 label.sk-toggleable__label-arrow:hover:before {color: black;}#sk-container-id-1 div.sk-estimator:hover label.sk-toggleable__label-arrow:before {color: black;}#sk-container-id-1 div.sk-toggleable__content {max-height: 0;max-width: 0;overflow: hidden;text-align: left;background-color: #f0f8ff;}#sk-container-id-1 div.sk-toggleable__content pre {margin: 0.2em;color: black;border-radius: 0.25em;background-color: #f0f8ff;}#sk-container-id-1 input.sk-toggleable__control:checked~div.sk-toggleable__content {max-height: 200px;max-width: 100%;overflow: auto;}#sk-container-id-1 input.sk-toggleable__control:checked~label.sk-toggleable__label-arrow:before {content: \"▾\";}#sk-container-id-1 div.sk-estimator input.sk-toggleable__control:checked~label.sk-toggleable__label {background-color: #d4ebff;}#sk-container-id-1 div.sk-label input.sk-toggleable__control:checked~label.sk-toggleable__label {background-color: #d4ebff;}#sk-container-id-1 input.sk-hidden--visually {border: 0;clip: rect(1px 1px 1px 1px);clip: rect(1px, 1px, 1px, 1px);height: 1px;margin: -1px;overflow: hidden;padding: 0;position: absolute;width: 1px;}#sk-container-id-1 div.sk-estimator {font-family: monospace;background-color: #f0f8ff;border: 1px dotted black;border-radius: 0.25em;box-sizing: border-box;margin-bottom: 0.5em;}#sk-container-id-1 div.sk-estimator:hover {background-color: #d4ebff;}#sk-container-id-1 div.sk-parallel-item::after {content: \"\";width: 100%;border-bottom: 1px solid gray;flex-grow: 1;}#sk-container-id-1 div.sk-label:hover label.sk-toggleable__label {background-color: #d4ebff;}#sk-container-id-1 div.sk-serial::before {content: \"\";position: absolute;border-left: 1px solid gray;box-sizing: border-box;top: 0;bottom: 0;left: 50%;z-index: 0;}#sk-container-id-1 div.sk-serial {display: flex;flex-direction: column;align-items: center;background-color: white;padding-right: 0.2em;padding-left: 0.2em;position: relative;}#sk-container-id-1 div.sk-item {position: relative;z-index: 1;}#sk-container-id-1 div.sk-parallel {display: flex;align-items: stretch;justify-content: center;background-color: white;position: relative;}#sk-container-id-1 div.sk-item::before, #sk-container-id-1 div.sk-parallel-item::before {content: \"\";position: absolute;border-left: 1px solid gray;box-sizing: border-box;top: 0;bottom: 0;left: 50%;z-index: -1;}#sk-container-id-1 div.sk-parallel-item {display: flex;flex-direction: column;z-index: 1;position: relative;background-color: white;}#sk-container-id-1 div.sk-parallel-item:first-child::after {align-self: flex-end;width: 50%;}#sk-container-id-1 div.sk-parallel-item:last-child::after {align-self: flex-start;width: 50%;}#sk-container-id-1 div.sk-parallel-item:only-child::after {width: 0;}#sk-container-id-1 div.sk-dashed-wrapped {border: 1px dashed gray;margin: 0 0.4em 0.5em 0.4em;box-sizing: border-box;padding-bottom: 0.4em;background-color: white;}#sk-container-id-1 div.sk-label label {font-family: monospace;font-weight: bold;display: inline-block;line-height: 1.2em;}#sk-container-id-1 div.sk-label-container {text-align: center;}#sk-container-id-1 div.sk-container {/* jupyter's `normalize.less` sets `[hidden] { display: none; }` but bootstrap.min.css set `[hidden] { display: none !important; }` so we also need the `!important` here to be able to override the default hidden behavior on the sphinx rendered scikit-learn.org. See: https://github.com/scikit-learn/scikit-learn/issues/21755 */display: inline-block !important;position: relative;}#sk-container-id-1 div.sk-text-repr-fallback {display: none;}</style><div id=\"sk-container-id-1\" class=\"sk-top-container\"><div class=\"sk-text-repr-fallback\"><pre>GradientBoostingRegressor(random_state=39)</pre><b>In a Jupyter environment, please rerun this cell to show the HTML representation or trust the notebook. <br />On GitHub, the HTML representation is unable to render, please try loading this page with nbviewer.org.</b></div><div class=\"sk-container\" hidden><div class=\"sk-item\"><div class=\"sk-estimator sk-toggleable\"><input class=\"sk-toggleable__control sk-hidden--visually\" id=\"sk-estimator-id-1\" type=\"checkbox\" checked><label for=\"sk-estimator-id-1\" class=\"sk-toggleable__label sk-toggleable__label-arrow\">GradientBoostingRegressor</label><div class=\"sk-toggleable__content\"><pre>GradientBoostingRegressor(random_state=39)</pre></div></div></div></div></div>"
      ],
      "text/plain": [
       "GradientBoostingRegressor(random_state=39)"
      ]
     },
     "execution_count": 11,
     "metadata": {},
     "output_type": "execute_result"
    }
   ],
   "source": [
    "# Train Gradient Boosting Model\n",
    "X_train, X_test, y_train, y_test = train_test_split(X, y, test_size=0.2, random_state=39)\n",
    "model = GradientBoostingRegressor(n_estimators=100, learning_rate=0.1, random_state=39)\n",
    "model.fit(X_train, y_train)"
   ]
  },
  {
   "cell_type": "code",
   "execution_count": 12,
   "id": "71eb85ed-3bcb-45e4-bb58-b470cd1105be",
   "metadata": {},
   "outputs": [],
   "source": [
    "# Predict using 2025 qualifying times\n",
    "predicted_lap_times = model.predict(qualifying_2025[[\"QualifyingTime (s)\"]])\n",
    "qualifying_2025[\"PredictedRaceTime (s)\"] = predicted_lap_times"
   ]
  },
  {
   "cell_type": "code",
   "execution_count": 13,
   "id": "926292cf-bcbb-46dd-a961-8f32d45d83cd",
   "metadata": {},
   "outputs": [
    {
     "data": {
      "text/html": [
       "<div>\n",
       "<style scoped>\n",
       "    .dataframe tbody tr th:only-of-type {\n",
       "        vertical-align: middle;\n",
       "    }\n",
       "\n",
       "    .dataframe tbody tr th {\n",
       "        vertical-align: top;\n",
       "    }\n",
       "\n",
       "    .dataframe thead th {\n",
       "        text-align: right;\n",
       "    }\n",
       "</style>\n",
       "<table border=\"1\" class=\"dataframe\">\n",
       "  <thead>\n",
       "    <tr style=\"text-align: right;\">\n",
       "      <th></th>\n",
       "      <th>Driver</th>\n",
       "      <th>QualifyingTime (s)</th>\n",
       "      <th>DriverCode</th>\n",
       "      <th>PredictedRaceTime (s)</th>\n",
       "    </tr>\n",
       "  </thead>\n",
       "  <tbody>\n",
       "    <tr>\n",
       "      <th>0</th>\n",
       "      <td>Lando Norris</td>\n",
       "      <td>75.096</td>\n",
       "      <td>NOR</td>\n",
       "      <td>82.712267</td>\n",
       "    </tr>\n",
       "    <tr>\n",
       "      <th>1</th>\n",
       "      <td>Oscar Piastri</td>\n",
       "      <td>75.180</td>\n",
       "      <td>PIA</td>\n",
       "      <td>84.330049</td>\n",
       "    </tr>\n",
       "    <tr>\n",
       "      <th>2</th>\n",
       "      <td>Max Verstappen</td>\n",
       "      <td>75.481</td>\n",
       "      <td>VER</td>\n",
       "      <td>85.187728</td>\n",
       "    </tr>\n",
       "    <tr>\n",
       "      <th>3</th>\n",
       "      <td>George Russell</td>\n",
       "      <td>75.546</td>\n",
       "      <td>RUS</td>\n",
       "      <td>83.886910</td>\n",
       "    </tr>\n",
       "    <tr>\n",
       "      <th>4</th>\n",
       "      <td>Yuki Tsunoda</td>\n",
       "      <td>75.670</td>\n",
       "      <td>TSU</td>\n",
       "      <td>84.417801</td>\n",
       "    </tr>\n",
       "    <tr>\n",
       "      <th>5</th>\n",
       "      <td>Alexander Albon</td>\n",
       "      <td>75.737</td>\n",
       "      <td>ALB</td>\n",
       "      <td>84.644262</td>\n",
       "    </tr>\n",
       "    <tr>\n",
       "      <th>6</th>\n",
       "      <td>Charles Leclerc</td>\n",
       "      <td>75.755</td>\n",
       "      <td>LEC</td>\n",
       "      <td>83.079012</td>\n",
       "    </tr>\n",
       "    <tr>\n",
       "      <th>7</th>\n",
       "      <td>Lewis Hamilton</td>\n",
       "      <td>75.973</td>\n",
       "      <td>HAM</td>\n",
       "      <td>86.098211</td>\n",
       "    </tr>\n",
       "    <tr>\n",
       "      <th>8</th>\n",
       "      <td>Pierre Gasly</td>\n",
       "      <td>75.980</td>\n",
       "      <td>GAS</td>\n",
       "      <td>85.541400</td>\n",
       "    </tr>\n",
       "    <tr>\n",
       "      <th>9</th>\n",
       "      <td>Carlos Sainz</td>\n",
       "      <td>76.062</td>\n",
       "      <td>SAI</td>\n",
       "      <td>83.621623</td>\n",
       "    </tr>\n",
       "    <tr>\n",
       "      <th>10</th>\n",
       "      <td>Fernando Alonso</td>\n",
       "      <td>76.400</td>\n",
       "      <td>ALO</td>\n",
       "      <td>83.871856</td>\n",
       "    </tr>\n",
       "    <tr>\n",
       "      <th>11</th>\n",
       "      <td>Lance Stroll</td>\n",
       "      <td>76.500</td>\n",
       "      <td>STR</td>\n",
       "      <td>85.287535</td>\n",
       "    </tr>\n",
       "  </tbody>\n",
       "</table>\n",
       "</div>"
      ],
      "text/plain": [
       "             Driver  QualifyingTime (s) DriverCode  PredictedRaceTime (s)\n",
       "0      Lando Norris              75.096        NOR              82.712267\n",
       "1     Oscar Piastri              75.180        PIA              84.330049\n",
       "2    Max Verstappen              75.481        VER              85.187728\n",
       "3    George Russell              75.546        RUS              83.886910\n",
       "4      Yuki Tsunoda              75.670        TSU              84.417801\n",
       "5   Alexander Albon              75.737        ALB              84.644262\n",
       "6   Charles Leclerc              75.755        LEC              83.079012\n",
       "7    Lewis Hamilton              75.973        HAM              86.098211\n",
       "8      Pierre Gasly              75.980        GAS              85.541400\n",
       "9      Carlos Sainz              76.062        SAI              83.621623\n",
       "10  Fernando Alonso              76.400        ALO              83.871856\n",
       "11     Lance Stroll              76.500        STR              85.287535"
      ]
     },
     "execution_count": 13,
     "metadata": {},
     "output_type": "execute_result"
    }
   ],
   "source": [
    "qualifying_2025"
   ]
  },
  {
   "cell_type": "code",
   "execution_count": 14,
   "id": "a3a2fa32-640d-493c-8c2d-5f58105a024d",
   "metadata": {},
   "outputs": [],
   "source": [
    "# Rank drivers by predicted race time\n",
    "qualifying_2025 = qualifying_2025.sort_values(by=\"PredictedRaceTime (s)\")"
   ]
  },
  {
   "cell_type": "code",
   "execution_count": 15,
   "id": "7d7949f4-aaa8-49ba-9d77-0a57cc11ec2f",
   "metadata": {},
   "outputs": [
    {
     "data": {
      "text/html": [
       "<div>\n",
       "<style scoped>\n",
       "    .dataframe tbody tr th:only-of-type {\n",
       "        vertical-align: middle;\n",
       "    }\n",
       "\n",
       "    .dataframe tbody tr th {\n",
       "        vertical-align: top;\n",
       "    }\n",
       "\n",
       "    .dataframe thead th {\n",
       "        text-align: right;\n",
       "    }\n",
       "</style>\n",
       "<table border=\"1\" class=\"dataframe\">\n",
       "  <thead>\n",
       "    <tr style=\"text-align: right;\">\n",
       "      <th></th>\n",
       "      <th>Driver</th>\n",
       "      <th>QualifyingTime (s)</th>\n",
       "      <th>DriverCode</th>\n",
       "      <th>PredictedRaceTime (s)</th>\n",
       "    </tr>\n",
       "  </thead>\n",
       "  <tbody>\n",
       "    <tr>\n",
       "      <th>0</th>\n",
       "      <td>Lando Norris</td>\n",
       "      <td>75.096</td>\n",
       "      <td>NOR</td>\n",
       "      <td>82.712267</td>\n",
       "    </tr>\n",
       "    <tr>\n",
       "      <th>6</th>\n",
       "      <td>Charles Leclerc</td>\n",
       "      <td>75.755</td>\n",
       "      <td>LEC</td>\n",
       "      <td>83.079012</td>\n",
       "    </tr>\n",
       "    <tr>\n",
       "      <th>9</th>\n",
       "      <td>Carlos Sainz</td>\n",
       "      <td>76.062</td>\n",
       "      <td>SAI</td>\n",
       "      <td>83.621623</td>\n",
       "    </tr>\n",
       "    <tr>\n",
       "      <th>10</th>\n",
       "      <td>Fernando Alonso</td>\n",
       "      <td>76.400</td>\n",
       "      <td>ALO</td>\n",
       "      <td>83.871856</td>\n",
       "    </tr>\n",
       "    <tr>\n",
       "      <th>3</th>\n",
       "      <td>George Russell</td>\n",
       "      <td>75.546</td>\n",
       "      <td>RUS</td>\n",
       "      <td>83.886910</td>\n",
       "    </tr>\n",
       "    <tr>\n",
       "      <th>1</th>\n",
       "      <td>Oscar Piastri</td>\n",
       "      <td>75.180</td>\n",
       "      <td>PIA</td>\n",
       "      <td>84.330049</td>\n",
       "    </tr>\n",
       "    <tr>\n",
       "      <th>4</th>\n",
       "      <td>Yuki Tsunoda</td>\n",
       "      <td>75.670</td>\n",
       "      <td>TSU</td>\n",
       "      <td>84.417801</td>\n",
       "    </tr>\n",
       "    <tr>\n",
       "      <th>5</th>\n",
       "      <td>Alexander Albon</td>\n",
       "      <td>75.737</td>\n",
       "      <td>ALB</td>\n",
       "      <td>84.644262</td>\n",
       "    </tr>\n",
       "    <tr>\n",
       "      <th>2</th>\n",
       "      <td>Max Verstappen</td>\n",
       "      <td>75.481</td>\n",
       "      <td>VER</td>\n",
       "      <td>85.187728</td>\n",
       "    </tr>\n",
       "    <tr>\n",
       "      <th>11</th>\n",
       "      <td>Lance Stroll</td>\n",
       "      <td>76.500</td>\n",
       "      <td>STR</td>\n",
       "      <td>85.287535</td>\n",
       "    </tr>\n",
       "    <tr>\n",
       "      <th>8</th>\n",
       "      <td>Pierre Gasly</td>\n",
       "      <td>75.980</td>\n",
       "      <td>GAS</td>\n",
       "      <td>85.541400</td>\n",
       "    </tr>\n",
       "    <tr>\n",
       "      <th>7</th>\n",
       "      <td>Lewis Hamilton</td>\n",
       "      <td>75.973</td>\n",
       "      <td>HAM</td>\n",
       "      <td>86.098211</td>\n",
       "    </tr>\n",
       "  </tbody>\n",
       "</table>\n",
       "</div>"
      ],
      "text/plain": [
       "             Driver  QualifyingTime (s) DriverCode  PredictedRaceTime (s)\n",
       "0      Lando Norris              75.096        NOR              82.712267\n",
       "6   Charles Leclerc              75.755        LEC              83.079012\n",
       "9      Carlos Sainz              76.062        SAI              83.621623\n",
       "10  Fernando Alonso              76.400        ALO              83.871856\n",
       "3    George Russell              75.546        RUS              83.886910\n",
       "1     Oscar Piastri              75.180        PIA              84.330049\n",
       "4      Yuki Tsunoda              75.670        TSU              84.417801\n",
       "5   Alexander Albon              75.737        ALB              84.644262\n",
       "2    Max Verstappen              75.481        VER              85.187728\n",
       "11     Lance Stroll              76.500        STR              85.287535\n",
       "8      Pierre Gasly              75.980        GAS              85.541400\n",
       "7    Lewis Hamilton              75.973        HAM              86.098211"
      ]
     },
     "execution_count": 15,
     "metadata": {},
     "output_type": "execute_result"
    }
   ],
   "source": [
    "qualifying_2025"
   ]
  },
  {
   "cell_type": "code",
   "execution_count": 18,
   "id": "3237469e-62e8-487c-9eac-863ea226f9df",
   "metadata": {},
   "outputs": [
    {
     "name": "stdout",
     "output_type": "stream",
     "text": [
      "\n",
      "🏁 Predicted 2025 Australian GP Winner 🏁\n",
      "\n",
      "             Driver  PredictedRaceTime (s)\n",
      "0      Lando Norris              82.712267\n",
      "6   Charles Leclerc              83.079012\n",
      "9      Carlos Sainz              83.621623\n",
      "10  Fernando Alonso              83.871856\n",
      "3    George Russell              83.886910\n",
      "1     Oscar Piastri              84.330049\n",
      "4      Yuki Tsunoda              84.417801\n",
      "5   Alexander Albon              84.644262\n",
      "2    Max Verstappen              85.187728\n",
      "11     Lance Stroll              85.287535\n",
      "8      Pierre Gasly              85.541400\n",
      "7    Lewis Hamilton              86.098211\n"
     ]
    }
   ],
   "source": [
    "# Print final predictions\n",
    "print(\"\\n🏁 Predicted 2025 Australian GP Winner 🏁\\n\")\n",
    "print(qualifying_2025[[\"Driver\", \"PredictedRaceTime (s)\"]])"
   ]
  },
  {
   "cell_type": "code",
   "execution_count": 19,
   "id": "30e9be5b-dfe2-4297-a16b-afa0876269e8",
   "metadata": {},
   "outputs": [
    {
     "name": "stdout",
     "output_type": "stream",
     "text": [
      "\n",
      "🔍 Model Error (MAE): 3.47 seconds\n"
     ]
    }
   ],
   "source": [
    "# Evaluate Model\n",
    "y_pred = model.predict(X_test)\n",
    "print(f\"\\n🔍 Model Error (MAE): {mean_absolute_error(y_test, y_pred):.2f} seconds\")"
   ]
  },
  {
   "cell_type": "code",
   "execution_count": null,
   "id": "14f7bdea-38c1-4569-913e-a86d4f1ca87b",
   "metadata": {},
   "outputs": [],
   "source": []
  }
 ],
 "metadata": {
  "kernelspec": {
   "display_name": "Python 3 (ipykernel)",
   "language": "python",
   "name": "python3"
  },
  "language_info": {
   "codemirror_mode": {
    "name": "ipython",
    "version": 3
   },
   "file_extension": ".py",
   "mimetype": "text/x-python",
   "name": "python",
   "nbconvert_exporter": "python",
   "pygments_lexer": "ipython3",
   "version": "3.11.5"
  }
 },
 "nbformat": 4,
 "nbformat_minor": 5
}
